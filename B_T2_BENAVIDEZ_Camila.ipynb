{
  "nbformat": 4,
  "nbformat_minor": 0,
  "metadata": {
    "colab": {
      "provenance": [],
      "authorship_tag": "ABX9TyMeTEltzcRdHK+iWupq0Rlb",
      "include_colab_link": true
    },
    "kernelspec": {
      "name": "python3",
      "display_name": "Python 3"
    },
    "language_info": {
      "name": "python"
    }
  },
  "cells": [
    {
      "cell_type": "markdown",
      "metadata": {
        "id": "view-in-github",
        "colab_type": "text"
      },
      "source": [
        "<a href=\"https://colab.research.google.com/github/clb2004/Camila/blob/main/B_T2_BENAVIDEZ_Camila.ipynb\" target=\"_parent\"><img src=\"https://colab.research.google.com/assets/colab-badge.svg\" alt=\"Open In Colab\"/></a>"
      ]
    },
    {
      "cell_type": "code",
      "execution_count": 1,
      "metadata": {
        "colab": {
          "base_uri": "https://localhost:8080/"
        },
        "id": "erm7aLSXgzly",
        "outputId": "09cfbc53-e087-49cb-bb3a-06ecf6ebfef2"
      },
      "outputs": [
        {
          "output_type": "stream",
          "name": "stdout",
          "text": [
            "hola mundo\n"
          ]
        }
      ],
      "source": [
        "\n",
        "print('hola mundo')#escribe lo que quiere que se muestre"
      ]
    },
    {
      "cell_type": "code",
      "source": [],
      "metadata": {
        "id": "hSSTUIKPko6E"
      },
      "execution_count": null,
      "outputs": []
    },
    {
      "cell_type": "code",
      "source": [
        "num1 = float(input(\"Introduce el primer número: \"))#pedimos alusuario que agregue un numero\n",
        "num2 = float(input(\"Introduce el segundo número: \"))#Variable num1, num2 para colocar dos numeros\n",
        "suma = num1 + num2\n",
        "print(f\"La suma de {num1} y {num2} es {suma}\")"
      ],
      "metadata": {
        "colab": {
          "base_uri": "https://localhost:8080/"
        },
        "id": "u8uRfhSchFYu",
        "outputId": "b814c08c-c614-4569-b123-d08b302b0bfa"
      },
      "execution_count": 6,
      "outputs": [
        {
          "output_type": "stream",
          "name": "stdout",
          "text": [
            "Introduce el primer número: 1\n",
            "Introduce el segundo número: 2\n",
            "La suma de 1.0 y 2.0 es 3.0\n"
          ]
        }
      ]
    },
    {
      "cell_type": "code",
      "source": [
        "num = int(input(\"Introduce un número: \"))\n",
        "if num % 2 == 0:#porcentaje par para ver si es multiple de dos\n",
        "    print(f\"{num} es par.\")\n",
        "else:\n",
        "    print(f\"{num} es impar.\")\n"
      ],
      "metadata": {
        "colab": {
          "base_uri": "https://localhost:8080/"
        },
        "id": "KWOxSv6_i2QP",
        "outputId": "c07b6008-b69d-4501-b48d-8f0f2c329cc9"
      },
      "execution_count": 7,
      "outputs": [
        {
          "output_type": "stream",
          "name": "stdout",
          "text": [
            "Introduce un número: 1\n",
            "1 es impar.\n"
          ]
        }
      ]
    },
    {
      "cell_type": "code",
      "source": [
        "num1 = float(input(\"Introduce el primer número: \"))\n",
        "num2 = float(input(\"Introduce el segundo número: \"))\n",
        "operacion = input(\"Introduce la operación (+, -, *, /): \")\n",
        "\n",
        "if operacion == '+':\n",
        "    resultado = num1 + num2\n",
        "elif operacion == '-':\n",
        "    resultado = num1 - num2\n",
        "elif operacion == '*':\n",
        "    resultado = num1 * num2\n",
        "elif operacion == '/':\n",
        "    resultado = num1 / num2\n",
        "else:\n",
        "    resultado = \"Operación no válida\"\n",
        "\n",
        "print(f\"El resultado es: {resultado}\")"
      ],
      "metadata": {
        "colab": {
          "base_uri": "https://localhost:8080/"
        },
        "id": "zaXK-bCNjEeo",
        "outputId": "1ab185e9-32c1-4a07-ca7b-8e9c16e261b5"
      },
      "execution_count": 8,
      "outputs": [
        {
          "output_type": "stream",
          "name": "stdout",
          "text": [
            "Introduce el primer número: 1\n",
            "Introduce el segundo número: 2\n",
            "Introduce la operación (+, -, *, /): +\n",
            "El resultado es: 3.0\n"
          ]
        }
      ]
    },
    {
      "cell_type": "code",
      "source": [],
      "metadata": {
        "id": "YvP1oeJilnwL"
      },
      "execution_count": null,
      "outputs": []
    },
    {
      "cell_type": "code",
      "source": [
        "num1 = float(input(\"Introduce el primer número: \"))\n",
        "num2 = float(input(\"Introduce el segundo número: \"))\n",
        "num3 = float(input(\"Introduce el tercer número: \"))\n",
        "\n",
        "mayor = max(num1, num2, num3)\n",
        "print(f\"El número mayor es {mayor}.\")"
      ],
      "metadata": {
        "colab": {
          "base_uri": "https://localhost:8080/"
        },
        "id": "qwWG77c6jd-p",
        "outputId": "8e4402c5-8adc-4bf1-d41c-7a3fd47f4547"
      },
      "execution_count": 9,
      "outputs": [
        {
          "output_type": "stream",
          "name": "stdout",
          "text": [
            "Introduce el primer número: 2\n",
            "Introduce el segundo número: 3\n",
            "Introduce el tercer número: 5\n",
            "El número mayor es 5.0.\n"
          ]
        }
      ]
    },
    {
      "cell_type": "code",
      "source": [
        "import math\n",
        "\n",
        "radio = float(input(\"Introduce el radio del círculo: \"))\n",
        "area = math.pi * radio ** 2\n",
        "print(f\"El área del círculo es {area:.2f}.\")\n"
      ],
      "metadata": {
        "id": "rL_S7KmLkbRZ"
      },
      "execution_count": null,
      "outputs": []
    },
    {
      "cell_type": "code",
      "source": [
        "celsius = float(input(\"Introduce la temperatura en grados Celsius: \"))\n",
        "fahrenheit = (celsius * 9/5) + 32\n",
        "print(f\"{celsius}°C es igual a {fahrenheit}°F.\")\n"
      ],
      "metadata": {
        "colab": {
          "base_uri": "https://localhost:8080/"
        },
        "id": "Cj0BZm2BltIt",
        "outputId": "e3e8c545-36f6-4faf-ddc4-04f450367379"
      },
      "execution_count": 10,
      "outputs": [
        {
          "output_type": "stream",
          "name": "stdout",
          "text": [
            "Introduce la temperatura en grados Celsius: 2\n",
            "2.0°C es igual a 35.6°F.\n"
          ]
        }
      ]
    },
    {
      "cell_type": "code",
      "source": [
        "for i in range(10, -1, 0):\n",
        "    print(i)\n",
        ""
      ],
      "metadata": {
        "colab": {
          "base_uri": "https://localhost:8080/",
          "height": 176
        },
        "id": "Qy188XPUmO5_",
        "outputId": "f4073f14-27ce-4a6f-cec7-f4c6069814ea"
      },
      "execution_count": 11,
      "outputs": [
        {
          "output_type": "error",
          "ename": "ValueError",
          "evalue": "range() arg 3 must not be zero",
          "traceback": [
            "\u001b[0;31m---------------------------------------------------------------------------\u001b[0m",
            "\u001b[0;31mValueError\u001b[0m                                Traceback (most recent call last)",
            "\u001b[0;32m<ipython-input-11-ee2c50ee34ba>\u001b[0m in \u001b[0;36m<cell line: 1>\u001b[0;34m()\u001b[0m\n\u001b[0;32m----> 1\u001b[0;31m \u001b[0;32mfor\u001b[0m \u001b[0mi\u001b[0m \u001b[0;32min\u001b[0m \u001b[0mrange\u001b[0m\u001b[0;34m(\u001b[0m\u001b[0;36m10\u001b[0m\u001b[0;34m,\u001b[0m \u001b[0;34m-\u001b[0m\u001b[0;36m1\u001b[0m\u001b[0;34m,\u001b[0m \u001b[0;36m0\u001b[0m\u001b[0;34m)\u001b[0m\u001b[0;34m:\u001b[0m\u001b[0;34m\u001b[0m\u001b[0;34m\u001b[0m\u001b[0m\n\u001b[0m\u001b[1;32m      2\u001b[0m     \u001b[0mprint\u001b[0m\u001b[0;34m(\u001b[0m\u001b[0mi\u001b[0m\u001b[0;34m)\u001b[0m\u001b[0;34m\u001b[0m\u001b[0;34m\u001b[0m\u001b[0m\n\u001b[1;32m      3\u001b[0m \u001b[0;34m\u001b[0m\u001b[0m\n",
            "\u001b[0;31mValueError\u001b[0m: range() arg 3 must not be zero"
          ]
        }
      ]
    },
    {
      "cell_type": "code",
      "source": [
        "num = int(input(\"Introduce un número: \"))\n",
        "for i in range(1, 11):#mira el rango de hasta doonde quiero la multiplicacion\n",
        "\n",
        "    print(f\"{num} x {i} = {num * i}\")\n"
      ],
      "metadata": {
        "colab": {
          "base_uri": "https://localhost:8080/"
        },
        "id": "XrgIAGahmWJZ",
        "outputId": "ea2df581-7a1a-4fc4-b48a-5d98f499466b"
      },
      "execution_count": 12,
      "outputs": [
        {
          "output_type": "stream",
          "name": "stdout",
          "text": [
            "Introduce un número: 2\n",
            "2 x 1 = 2\n",
            "2 x 2 = 4\n",
            "2 x 3 = 6\n",
            "2 x 4 = 8\n",
            "2 x 5 = 10\n",
            "2 x 6 = 12\n",
            "2 x 7 = 14\n",
            "2 x 8 = 16\n",
            "2 x 9 = 18\n",
            "2 x 10 = 20\n"
          ]
        }
      ]
    },
    {
      "cell_type": "code",
      "source": [],
      "metadata": {
        "id": "8KJMqLL2mfDU"
      },
      "execution_count": null,
      "outputs": []
    },
    {
      "cell_type": "code",
      "source": [],
      "metadata": {
        "id": "gJ_WwLrWniUM"
      },
      "execution_count": null,
      "outputs": []
    },
    {
      "cell_type": "code",
      "source": [
        "cadena = input(\"Introduce una cadena: \")\n",
        "invertida = cadena[::-1]\n",
        "print(f\"La cadena invertida es: {invertida}\")\n"
      ],
      "metadata": {
        "id": "um2kr_d0nks9"
      },
      "execution_count": null,
      "outputs": []
    },
    {
      "cell_type": "code",
      "source": [
        "cadena = input(\"Introduce una cadena: \")\n",
        "vocales = \"aeiouAEIOU\"\n",
        "contador = sum(1 for char in cadena if char in vocales)\n",
        "print(f\"El número de vocales en la cadena es: {contador}\")\n"
      ],
      "metadata": {
        "id": "EauH8TrmonPF"
      },
      "execution_count": null,
      "outputs": []
    },
    {
      "cell_type": "code",
      "source": [
        "cadena = input(\"Introduce una cadena: \")\n",
        "if cadena == cadena[::-1]:\n",
        "    print(\"La cadena es un palíndromo.\")\n",
        "else:\n",
        "    print(\"La cadena no es un palíndromo.\")\n",
        "\n",
        ""
      ],
      "metadata": {
        "id": "U6Dvv1siox1x"
      },
      "execution_count": null,
      "outputs": []
    }
  ]
}